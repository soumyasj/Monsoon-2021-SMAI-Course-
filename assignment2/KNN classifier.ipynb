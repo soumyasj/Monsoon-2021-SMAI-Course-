{
 "cells": [
  {
   "cell_type": "markdown",
   "id": "186be3d3",
   "metadata": {},
   "source": [
    "# KNN Classifier"
   ]
  },
  {
   "cell_type": "markdown",
   "id": "edeabff5",
   "metadata": {},
   "source": [
    "### Dataset"
   ]
  },
  {
   "cell_type": "code",
   "execution_count": 63,
   "id": "69cac090",
   "metadata": {},
   "outputs": [],
   "source": [
    "import numpy as np\n",
    "import pandas as pd\n",
    "from sklearn.model_selection import train_test_split\n",
    "from scipy.stats import mode"
   ]
  },
  {
   "cell_type": "code",
   "execution_count": 3,
   "id": "e0fa6912",
   "metadata": {},
   "outputs": [],
   "source": [
    "#Load data\n",
    "iris = pd.read_csv('Iris.csv')\n",
    "#data cleaning\n",
    "iris.drop(columns=\"Id\",inplace=True)"
   ]
  },
  {
   "cell_type": "code",
   "execution_count": 4,
   "id": "1ca8135b",
   "metadata": {},
   "outputs": [],
   "source": [
    "#features and labels\n",
    "X=iris.iloc[:,0:4].values\n",
    "y=iris.iloc[:,4].values\n",
    "\n",
    "#Train and Test split\n",
    "X_train,X_test,y_train,y_test = train_test_split(X,y,test_size=0.2,random_state=0)"
   ]
  },
  {
   "cell_type": "code",
   "execution_count": 10,
   "id": "6ca8c19d",
   "metadata": {},
   "outputs": [],
   "source": [
    "testing = iris.iloc[:,0:4].values\n",
    "testing = testing[:10]"
   ]
  },
  {
   "cell_type": "markdown",
   "id": "b4484c07",
   "metadata": {},
   "source": [
    "k-nearest neighbor can be split into 3 steps:\n",
    "1. Calculate euclidean distance\n",
    "2. Get nearest neighbors.\n",
    "3. Make predictions."
   ]
  },
  {
   "cell_type": "code",
   "execution_count": 16,
   "id": "d99fc4f3",
   "metadata": {},
   "outputs": [],
   "source": [
    "def effective_distance(sample1, sample2):\n",
    "    dist = 0.0\n",
    "    l1 = len(sample1)\n",
    "    for i in range(l1-1):\n",
    "        dist = dist + (sample1[i] - sample2[i])**2\n",
    "    dist = np.sqrt(dist)\n",
    "    return dist"
   ]
  },
  {
   "cell_type": "code",
   "execution_count": 64,
   "id": "ef935776",
   "metadata": {},
   "outputs": [],
   "source": [
    "def get_class_prediction(x_train, y_train, x_test, k):\n",
    "    op_classes = []\n",
    "    \n",
    "    for i in x_test:\n",
    "        distances = []\n",
    "        for j in range(len(x_train)):\n",
    "            dist = effective_distance(np.array(x_train[j,:]), i)\n",
    "            distances.append(dist)\n",
    "            \n",
    "        distances = np.array(distances)\n",
    "        min_distance = np.argsort(distances)\n",
    "        min_distance_k = min_distance[:k]\n",
    "        classes = y_train[min_distance_k]\n",
    "\n",
    "        major = mode(classes)\n",
    "        major = major.mode[0]\n",
    "        op_classes.append(major)\n",
    "    \n",
    "    return op_classes"
   ]
  },
  {
   "cell_type": "code",
   "execution_count": 68,
   "id": "5c500aa4",
   "metadata": {},
   "outputs": [],
   "source": [
    "def calculate_accuracy(prediction, ground_truth):\n",
    "    proper = 0\n",
    "    for i in range(len(ground_truth)):\n",
    "        if ground_truth[i] == prediction[i]:\n",
    "            proper+=1\n",
    "    return proper/float(len(ground_truth))*100.0"
   ]
  },
  {
   "cell_type": "code",
   "execution_count": 69,
   "id": "1c5ba21f",
   "metadata": {},
   "outputs": [],
   "source": [
    "y_pred = get_class_prediction(X_train, y_train, X_test, 3)"
   ]
  },
  {
   "cell_type": "code",
   "execution_count": 70,
   "id": "9c6392f0",
   "metadata": {},
   "outputs": [
    {
     "name": "stdout",
     "output_type": "stream",
     "text": [
      "accuracy of the KNN Model is:  93.33333333333333\n"
     ]
    }
   ],
   "source": [
    "accuracy = calculate_accuracy(y_pred, y_test)\n",
    "print(\"accuracy of the KNN Model is: \", accuracy)"
   ]
  },
  {
   "cell_type": "code",
   "execution_count": 72,
   "id": "a7dc4040",
   "metadata": {},
   "outputs": [],
   "source": [
    "# # def knn_neighbours1(train_data, test_sample, k):\n",
    "# #     eff_distance = []\n",
    "# #     for i in train_data:\n",
    "# #         d = effective_distance(test_sample, i)\n",
    "# #         eff_distance.append((i, d))\n",
    "# #     eff_distance.sort(key=lambda tup:tup[1])\n",
    "# #     knn_neighbours = []\n",
    "# #     for i in range(k):\n",
    "# #         knn_neighbours.append(eff_distance[i][0])\n",
    "# #     return knn_neighbours\n",
    "\n",
    "# def get_class(train_data, test_sample, k, y_train):\n",
    "#     knn_neighbours = knn_neighbours1(train_data, test_sample, k)\n",
    "#     op_classes = []\n",
    "#     for i in range(len(knn_neighbours)):\n",
    "#         op_classes.append(y_train[i])\n",
    "#     classes = max(set(op_classes), key=op_classes.count)\n",
    "#     return classes\n",
    "# dataset = [[2.7810836,2.550537003,0],\n",
    "# [1.465489372,2.362125076,0],\n",
    "# [3.396561688,4.400293529,0],\n",
    "# [1.38807019,1.850220317,0],\n",
    "# [3.06407232,3.005305973,0],\n",
    "# [7.627531214,2.759262235,1],\n",
    "# [5.332441248,2.088626775,1],\n",
    "# [6.922596716,1.77106367,1],\n",
    "# [8.675418651,-0.242068655,1],\n",
    "# [7.673756466,3.508563011,1]]\n",
    "# # neighbors = knn_neighbours(dataset, dataset[0], 3)\n",
    "# prediction = get_class(X_train, X_train[0], 3, y_train)\n",
    "# print(prediction)"
   ]
  }
 ],
 "metadata": {
  "kernelspec": {
   "display_name": "Python 3",
   "language": "python",
   "name": "python3"
  },
  "language_info": {
   "codemirror_mode": {
    "name": "ipython",
    "version": 3
   },
   "file_extension": ".py",
   "mimetype": "text/x-python",
   "name": "python",
   "nbconvert_exporter": "python",
   "pygments_lexer": "ipython3",
   "version": "3.9.6"
  }
 },
 "nbformat": 4,
 "nbformat_minor": 5
}
