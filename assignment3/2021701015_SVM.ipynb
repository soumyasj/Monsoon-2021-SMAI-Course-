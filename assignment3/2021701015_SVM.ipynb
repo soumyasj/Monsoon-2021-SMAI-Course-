{
 "cells": [
  {
   "cell_type": "markdown",
   "metadata": {
    "id": "KFqwgxfkI9qG"
   },
   "source": [
    "# Support Vector Machines\n",
    "\n",
    "In this section of the assignment, you will get to implement Support Vector Machines which are among the best (and many believe are indeed the best) “off-the-shelf” supervised learning algorithm.\n",
    "\n",
    "This section is further divided into 3 subsections.\n",
    "\n",
    "\n",
    "*   In the first subsection, you will work on a synthetic dataset and visualize the boundary predicted by SVM. You will also vary the value of C-parameter and see how the decision boundary changes. **Please note that you cannot use inbuilt sklearn function for SVM in this sub-section**. You can only use a QCQP (Quadratically Constrained Quadratic Program) solver like CVXPY. \n",
    "\n",
    "  References which you may find helpful for this subsection: \n",
    "  \n",
    "  1.   https://www.cvxpy.org/\n",
    "  2.   https://www.cvxpy.org/examples/basic/quadratic_program.html\n",
    "\n",
    "  Note that in this section you are expected to show how you derived the Quadratically Constrained form(which can be passed into the solver) from the basic principles of SVM algorithm\n",
    "*  In the next subsection you will use be using the famous MNIST dataset to explore various kernels and report the results. **Please note you may use inbuilt sklearn SVM functions in this subsection**\n"
   ]
  },
  {
   "cell_type": "code",
   "execution_count": 1,
   "metadata": {
    "id": "Ub9ArRIDI9qR"
   },
   "outputs": [],
   "source": [
    "# !pip install numpy\n",
    "# !pip install matplotlib\n",
    "# !pip install cvxpy\n",
    "import numpy as np\n",
    "import cvxpy as cp\n",
    "import matplotlib.pyplot as plt"
   ]
  },
  {
   "cell_type": "markdown",
   "metadata": {
    "id": "GasJBLV5I9qf"
   },
   "source": [
    "### Subsection 1"
   ]
  },
  {
   "cell_type": "code",
   "execution_count": 2,
   "metadata": {
    "id": "eulkE0pTI9qg"
   },
   "outputs": [],
   "source": [
    "# Feel free to use this helper function to visualize 2D points X with labels +1 or -1\n",
    "def plot_points(X, Y):\n",
    "    reds = []\n",
    "    blues = []\n",
    "    for i in range(Y.shape[0]):\n",
    "        if Y[i] == 1:\n",
    "            reds.append(X[i])\n",
    "        else:\n",
    "            blues.append(X[i])\n",
    "    reds = np.array(reds)\n",
    "    blues = np.array(blues)\n",
    "    plt.scatter(reds[:, 0], reds[:, 1], c = 'r')\n",
    "    plt.scatter(blues[:, 0], blues[:, 1], c = 'b')"
   ]
  },
  {
   "cell_type": "code",
   "execution_count": 3,
   "metadata": {
    "colab": {
     "base_uri": "https://localhost:8080/",
     "height": 265
    },
    "id": "rpWOqtHjI9qi",
    "outputId": "1c5541f3-2ff4-45fd-a7ab-16384e0c9045"
   },
   "outputs": [
    {
     "data": {
      "image/png": "[encoded data removed]",
      "text/plain": [
       "<Figure size 432x288 with 1 Axes>"
      ]
     },
     "metadata": {
      "needs_background": "light"
     },
     "output_type": "display_data"
    }
   ],
   "source": [
    "# Create Synthetic Data and visualize the points\n",
    "X = np.array([[-3.5, -1], [-3, 0], [-3, 1], [-2.7, -1.3], [-2, -1], [-2, -2.7], \n",
    "              [-1, -2.5], [0, -3], [-1.1, 0], [0, 2.5], [1, 2], [0.7, 4], \n",
    "              [2.1, 0.2], [2.3, 1], [2.8, 1.8], [2.2, 2.8]])\n",
    "y = np.array([1, 1, 1, 1, 1, 1, 1, 1, -1, -1, -1, -1, -1, -1, -1, -1])\n",
    "\n",
    "plot_points(X, y)\n",
    "plt.show()"
   ]
  },
  {
   "cell_type": "markdown",
   "metadata": {
    "id": "qkXWnVMuI9qk"
   },
   "source": [
    "In the next cell you are required to derive the Quadratic Constrained Quadratic form of SVM **without soft constraints** from the basic principles. Start with the idea that SVM tries to maximize the margin and then derive the form which you can feed to the solver.\n",
    "\n",
    "Please print the values of w, b. \n",
    "\n",
    "**Note: You are also required to upload a page of the derivation. You may also type it in markdown here.**\n",
    "\n",
    "**Note: You cannot use sklearn SVM functions here.**"
   ]
  },
  {
   "cell_type": "markdown",
   "metadata": {
    "id": "vUE-dHo2r5K8"
   },
   "source": [
    "![alt text](svm.jpg \"Derivation\")"
   ]
  },
  {
   "cell_type": "code",
   "execution_count": 4,
   "metadata": {
    "colab": {
     "base_uri": "https://localhost:8080/"
    },
    "id": "cL-jVJH8I9ql",
    "outputId": "a7c44a09-4d92-40df-824a-f82d9cb6f185"
   },
   "outputs": [
    {
     "name": "stdout",
     "output_type": "stream",
     "text": [
      "W is:  [[-1.73913043]\n",
      " [-1.30434783]]\n",
      "b is:  -2.9130434783188317\n"
     ]
    }
   ],
   "source": [
    "# Write your code here\n",
    "\n",
    "m, n = X.shape\n",
    "\n",
    "W = cp.Variable((X.shape[1], 1)) \n",
    "b = cp.Variable() \n",
    "\n",
    "objective = cp.Minimize(cp.norm(W, 2)) \n",
    "\n",
    "constraint = [ y[i]*((W.T @ X[i]) + b) >= 1 for i in range(X.shape[0])]\n",
    "\n",
    "Quad_problem = cp.Problem(objective, constraint)\n",
    "Quad_problem.solve()\n",
    "\n",
    "w = W.value\n",
    "b = b.value\n",
    "\n",
    "print(\"W is: \", w)\n",
    "print(\"b is: \", b)"
   ]
  },
  {
   "cell_type": "markdown",
   "metadata": {
    "id": "E1qoXcdDI9qm"
   },
   "source": [
    "In the next cell you are required to visualize the boundary predicted by the solver. You may want to revise up on how to plot the a line given w, b. Please plot w vector as well as the margin lines\n",
    "\n",
    "You may want to create a function to plot the line of separation as you would require this frequently in the subsequent parts of the assignment."
   ]
  },
  {
   "cell_type": "code",
   "execution_count": 5,
   "metadata": {
    "colab": {
     "base_uri": "https://localhost:8080/"
    },
    "id": "w4Y9ct3kr5K-",
    "outputId": "9b64f3b2-4b79-4809-a78a-8680190bc905"
   },
   "outputs": [
    {
     "name": "stdout",
     "output_type": "stream",
     "text": [
      "(16, 2) (16,)\n"
     ]
    }
   ],
   "source": [
    "print(X.shape, y.shape)"
   ]
  },
  {
   "cell_type": "code",
   "execution_count": 6,
   "metadata": {
    "colab": {
     "base_uri": "https://localhost:8080/"
    },
    "id": "Z6ZRj4c1r5K-",
    "outputId": "d4842872-90e8-4cba-c3df-41774de94020"
   },
   "outputs": [
    {
     "data": {
      "text/plain": [
       "array([[0, 1, 2, 3, 4, 5, 6, 7]])"
      ]
     },
     "execution_count": 6,
     "metadata": {},
     "output_type": "execute_result"
    }
   ],
   "source": [
    "np.array(np.where(y==1))"
   ]
  },
  {
   "cell_type": "code",
   "execution_count": 7,
   "metadata": {
    "colab": {
     "base_uri": "https://localhost:8080/",
     "height": 265
    },
    "id": "qResPs3Pr5K-",
    "outputId": "c99a043a-5bda-4f65-82f5-a23a7d9c37b9"
   },
   "outputs": [
    {
     "data": {
      "image/png": "[encoded data removed]",
      "text/plain": [
       "<Figure size 432x288 with 1 Axes>"
      ]
     },
     "metadata": {
      "needs_background": "light"
     },
     "output_type": "display_data"
    }
   ],
   "source": [
    "def plot_svm(W, b, X):\n",
    "    mid = (-b - (w[0]*X))/w[1]\n",
    "    mid_left = (-b - (w[0]*X) + 1)/ w[1]\n",
    "    mid_right = (-b - (w[0]*X) - 1)/w[1]\n",
    "    plt.plot(X, mid, 'g')\n",
    "    plt.plot(X, mid_left, 'r--')\n",
    "    plt.plot(X, mid_right, 'b--')\n",
    "\n",
    "plot_svm(w, b, X)\n",
    "plot_points(X, y)\n",
    "plt.show()"
   ]
  },
  {
   "cell_type": "markdown",
   "metadata": {
    "id": "NnSqBDqqI9qp"
   },
   "source": [
    "In the next cell please plot only the support vectors along with the boundary, w vector, and margins. \n",
    "\n",
    "**Note: You are not supposed to hard-code the points here.**"
   ]
  },
  {
   "cell_type": "code",
   "execution_count": 8,
   "metadata": {
    "colab": {
     "base_uri": "https://localhost:8080/",
     "height": 265
    },
    "id": "CoOKlIvDr5K_",
    "outputId": "380e8775-0433-4f87-fba2-8b2fc05de30d"
   },
   "outputs": [
    {
     "data": {
      "image/png": "[encoded data removed]",
      "text/plain": [
       "<Figure size 432x288 with 1 Axes>"
      ]
     },
     "metadata": {
      "needs_background": "light"
     },
     "output_type": "display_data"
    }
   ],
   "source": [
    "# Write your code here\n",
    "\n",
    "plot_svm(w, b, X)\n",
    "\n",
    "def plot_support_vectors():\n",
    "    left_support_vector_x = []\n",
    "    left_support_vector_y = []\n",
    "\n",
    "    for i in range(X.shape[0]):\n",
    "        line = (np.dot(X[i],w)+b)\n",
    "        if -1< line+0.3 < 0:\n",
    "            left_support_vector_x.append(X[i][0])\n",
    "            left_support_vector_y.append(X[i][1])\n",
    "\n",
    "    right_support_vector_x = []\n",
    "    right_support_vector_y = []    \n",
    "\n",
    "    for i in range(X.shape[0]):\n",
    "        line = (np.dot(X[i],w)+b)\n",
    "        if 1< line+0.3 < 2:\n",
    "            right_support_vector_x.append(X[i][0])\n",
    "            right_support_vector_y.append(X[i][1])\n",
    "\n",
    "    plt.scatter(left_support_vector_x, left_support_vector_y)\n",
    "    plt.scatter(right_support_vector_x, right_support_vector_y)\n",
    "    plt.show()"
   ]
  },
  {
   "cell_type": "code",
   "execution_count": 9,
   "metadata": {
    "colab": {
     "base_uri": "https://localhost:8080/"
    },
    "id": "vZ83g0qbr5K_",
    "outputId": "23af6cc6-48ca-4196-cb3f-0d09f5777631"
   },
   "outputs": [
    {
     "name": "stdout",
     "output_type": "stream",
     "text": [
      "[-1.1] [0.0]\n"
     ]
    }
   ],
   "source": [
    "print(left_support_vector_x, left_support_vector_y)"
   ]
  },
  {
   "cell_type": "code",
   "execution_count": 10,
   "metadata": {
    "colab": {
     "base_uri": "https://localhost:8080/"
    },
    "id": "b00oB5bPr5LA",
    "outputId": "018d5e99-fe25-45ac-f1d8-8beeeac2ea7e"
   },
   "outputs": [
    {
     "name": "stdout",
     "output_type": "stream",
     "text": [
      "[-3.0, 0.0] [1.0, -3.0]\n"
     ]
    }
   ],
   "source": [
    "print(right_support_vector_x, right_support_vector_y)"
   ]
  },
  {
   "cell_type": "markdown",
   "metadata": {
    "id": "x0Kso1FfI9qs"
   },
   "source": [
    "In the next cell add the following points:\n",
    "* (-4, -10) with label 1\n",
    "* (4, 4) with label -1\n",
    "\n",
    "Is the decision boundary changed after adding the points? Explain your observations theoretically."
   ]
  },
  {
   "cell_type": "code",
   "execution_count": 11,
   "metadata": {
    "colab": {
     "base_uri": "https://localhost:8080/",
     "height": 282
    },
    "id": "m4V4ea1-I9qs",
    "outputId": "7c38475c-d752-4f46-a7bd-8bb24faf84d2"
   },
   "outputs": [
    {
     "name": "stdout",
     "output_type": "stream",
     "text": [
      "(18, 2) (18,)\n"
     ]
    },
    {
     "data": {
      "image/png": "[encoded data removed]",
      "text/plain": [
       "<Figure size 432x288 with 1 Axes>"
      ]
     },
     "metadata": {
      "needs_background": "light"
     },
     "output_type": "display_data"
    }
   ],
   "source": [
    "# Re-create the Synthetic Data by adding the points and visualize the points\n",
    "\n",
    "X=list(X)\n",
    "y=list(y)\n",
    "X.append([-4,-10])\n",
    "X.append([4,4])\n",
    "X=np.asarray(X)\n",
    "y.append(1)\n",
    "y.append(-1)\n",
    "y=np.asarray(y)\n",
    "print(X.shape, y.shape)\n",
    "\n",
    "plot_points(X, y)\n",
    "plt.show()"
   ]
  },
  {
   "cell_type": "code",
   "execution_count": null,
   "metadata": {},
   "outputs": [],
   "source": [
    "def inner_cp_function(X):\n",
    "    objective = cp.Minimize(cp.norm(W, 2)) \n",
    "\n",
    "    constraint = [ y[i]*((W.T @ X[i]) + b) >= 1 for i in range(X.shape[0])]\n",
    "\n",
    "    Quad_problem = cp.Problem(objective, constraint)\n",
    "    Quad_problem.solve()\n",
    "    \n",
    "    return W.value, b.value"
   ]
  },
  {
   "cell_type": "code",
   "execution_count": 12,
   "metadata": {
    "colab": {
     "base_uri": "https://localhost:8080/",
     "height": 317
    },
    "id": "sW93Z-FiI9qt",
    "outputId": "ff86afc5-1241-47c9-9595-899c7e3158c5"
   },
   "outputs": [
    {
     "name": "stdout",
     "output_type": "stream",
     "text": [
      "W is:  [[-1.73913044]\n",
      " [-1.30434783]]\n",
      "b is:  -2.9130434790774022\n"
     ]
    },
    {
     "data": {
      "image/png": "[encoded data removed]",
      "text/plain": [
       "<Figure size 432x288 with 1 Axes>"
      ]
     },
     "metadata": {
      "needs_background": "light"
     },
     "output_type": "display_data"
    }
   ],
   "source": [
    "# Solve for the decision boundary using this modified dataset\n",
    "\n",
    "# Write your code here\n",
    "\n",
    "def solve_decision_boundary(X):\n",
    "    m, n = X.shape\n",
    "\n",
    "    W = cp.Variable((X.shape[1], 1)) \n",
    "    b = cp.Variable() \n",
    "\n",
    "    w, b = inner_cp_function(X)\n",
    "\n",
    "    print(\"W is: \", w)\n",
    "    print(\"b is: \", b)\n",
    "    plot_svm(w, b, X)\n",
    "    plot_points(X, y)\n",
    "    plt.show()\n",
    "solve_decision_boundary(X)"
   ]
  },
  {
   "cell_type": "markdown",
   "metadata": {
    "id": "leMyXEcCr5LB"
   },
   "source": [
    "### Solution:\n",
    "\n",
    "After adding the two points, the decision boundaries do not change. The reason being that addition of these two points does not result in change of support vectors."
   ]
  },
  {
   "cell_type": "markdown",
   "metadata": {
    "id": "AiepQDo3I9qu"
   },
   "source": [
    "In the next cell you are required to modify your framing of optimisation problem to incorporate soft constraints also known as slack. Plot the decision boundary, w and margin lines for various values of C: $0.01$, $0.1$, $3$, $10$, $100$.\n",
    "\n",
    "Explain your results theoretically. How does the boundary change with varying values of C? Why?\n",
    "\n",
    "**Note: Use the modified X and y i.e after adding points in previous cell.**"
   ]
  },
  {
   "cell_type": "code",
   "execution_count": null,
   "metadata": {},
   "outputs": [],
   "source": [
    "def inner_cp_function_modified(X):\n",
    "    W = cp.Variable((n, 1))\n",
    "    b = cp.Variable() \n",
    "    Slack_i = cp.Variable((m, 1))\n",
    "\n",
    "\n",
    "    objective1 = cp.Minimize(cp.norm(W, 2) + C*cp.sum(Slack_i)) \n",
    "\n",
    "    constraint1 = [ y[i]*((W.T @ X[i]) + b) + Slack_i >= 1 for i in range(m)] + [Slack_i >= 0]\n",
    "\n",
    "    Quad_problem1 = cp.Problem(objective1, constraint1)\n",
    "    Quad_problem1.solve()\n",
    "    \n",
    "    return W.value, b.value"
   ]
  },
  {
   "cell_type": "code",
   "execution_count": 13,
   "metadata": {
    "id": "aaYqCfqPr5LB"
   },
   "outputs": [],
   "source": [
    "def get_opti_svm(X, y, C):\n",
    "    m, n = X.shape\n",
    "\n",
    "    w , b = inner_cp_function_modified(X)\n",
    "    \n",
    "    return w, b"
   ]
  },
  {
   "cell_type": "code",
   "execution_count": 14,
   "metadata": {
    "colab": {
     "base_uri": "https://localhost:8080/",
     "height": 328
    },
    "id": "TVEix42nI9qu",
    "outputId": "d6b1633e-91c9-402a-a1b5-67197c8f30b2"
   },
   "outputs": [
    {
     "name": "stdout",
     "output_type": "stream",
     "text": [
      "W is:  [[ 1.32279708e-14]\n",
      " [-2.08773478e-15]]\n",
      "b is:  -2.478620246298224e-13\n"
     ]
    },
    {
     "data": {
      "image/png": "[encoded data removed]",
      "text/plain": [
       "<Figure size 432x288 with 1 Axes>"
      ]
     },
     "metadata": {
      "needs_background": "light"
     },
     "output_type": "display_data"
    }
   ],
   "source": [
    "# Write your code here for C= 0.01\n",
    "\n",
    "C = 0.01\n",
    "\n",
    "w, b = get_opti_svm(X, y, C)\n",
    "\n",
    "print(\"W is: \", w)\n",
    "print(\"b is: \", b)\n",
    "\n",
    "plot_svm(w, b, X)\n",
    "plot_points(X, y)\n",
    "plt.show()"
   ]
  },
  {
   "cell_type": "code",
   "execution_count": 15,
   "metadata": {
    "colab": {
     "base_uri": "https://localhost:8080/",
     "height": 328
    },
    "id": "f8tdPNMAI9qv",
    "outputId": "9f1bb84c-882a-4d50-a85a-dac3012534c8"
   },
   "outputs": [
    {
     "name": "stdout",
     "output_type": "stream",
     "text": [
      "W is:  [[-1.99125453e-12]\n",
      " [-1.50082783e-12]]\n",
      "b is:  -3.256508633014999e-12\n"
     ]
    },
    {
     "data": {
      "image/png": "[encoded data removed]",
      "text/plain": [
       "<Figure size 432x288 with 1 Axes>"
      ]
     },
     "metadata": {
      "needs_background": "light"
     },
     "output_type": "display_data"
    }
   ],
   "source": [
    "# Write your code here for C= 0.1\n",
    "\n",
    "C = 0.1\n",
    "\n",
    "w, b = get_opti_svm(X, y, C)\n",
    "\n",
    "print(\"W is: \", w)\n",
    "print(\"b is: \", b)\n",
    "\n",
    "plot_svm(w, b, X)\n",
    "plot_points(X, y)\n",
    "plt.show()"
   ]
  },
  {
   "cell_type": "code",
   "execution_count": 16,
   "metadata": {
    "colab": {
     "base_uri": "https://localhost:8080/",
     "height": 317
    },
    "id": "Xf5hfxRRI9qw",
    "outputId": "4857e24a-0564-41d1-e261-ea34efd5c6b5"
   },
   "outputs": [
    {
     "name": "stdout",
     "output_type": "stream",
     "text": [
      "W is:  [[-1.73913043]\n",
      " [-1.30434783]]\n",
      "b is:  -2.913043478432651\n"
     ]
    },
    {
     "data": {
      "image/png": "[encoded data removed]",
      "text/plain": [
       "<Figure size 432x288 with 1 Axes>"
      ]
     },
     "metadata": {
      "needs_background": "light"
     },
     "output_type": "display_data"
    }
   ],
   "source": [
    "# Write your code here for C= 3\n",
    "\n",
    "C = 3\n",
    "\n",
    "w, b = get_opti_svm(X, y, C)\n",
    "\n",
    "print(\"W is: \", w)\n",
    "print(\"b is: \", b)\n",
    "\n",
    "plot_svm(w, b, X)\n",
    "plot_points(X, y)\n",
    "plt.show()"
   ]
  },
  {
   "cell_type": "code",
   "execution_count": 17,
   "metadata": {
    "colab": {
     "base_uri": "https://localhost:8080/",
     "height": 317
    },
    "id": "qecGoXdnI9qx",
    "outputId": "198a1012-cc98-4dbb-9575-c6bd782bbe97"
   },
   "outputs": [
    {
     "name": "stdout",
     "output_type": "stream",
     "text": [
      "W is:  [[-1.73913044]\n",
      " [-1.30434783]]\n",
      "b is:  -2.913043493882679\n"
     ]
    },
    {
     "data": {
      "image/png": "[encoded data removed]",
      "text/plain": [
       "<Figure size 432x288 with 1 Axes>"
      ]
     },
     "metadata": {
      "needs_background": "light"
     },
     "output_type": "display_data"
    }
   ],
   "source": [
    "# Write your code here for C= 10\n",
    "\n",
    "C = 10\n",
    "\n",
    "w, b = get_opti_svm(X, y, C)\n",
    "\n",
    "print(\"W is: \", w)\n",
    "print(\"b is: \", b)\n",
    "\n",
    "plot_svm(w, b, X)\n",
    "plot_points(X, y)\n",
    "plt.show()"
   ]
  },
  {
   "cell_type": "code",
   "execution_count": 18,
   "metadata": {
    "colab": {
     "base_uri": "https://localhost:8080/",
     "height": 317
    },
    "id": "cO3_kVe9I9qy",
    "outputId": "b82c84bc-2d68-422b-8578-4c2ec6b657bc"
   },
   "outputs": [
    {
     "name": "stdout",
     "output_type": "stream",
     "text": [
      "W is:  [[-1.73913044]\n",
      " [-1.30434783]]\n",
      "b is:  -2.913043478659036\n"
     ]
    },
    {
     "data": {
      "image/png": "[encoded data removed]",
      "text/plain": [
       "<Figure size 432x288 with 1 Axes>"
      ]
     },
     "metadata": {
      "needs_background": "light"
     },
     "output_type": "display_data"
    }
   ],
   "source": [
    "# Write your code here for C= 100\n",
    "\n",
    "C = 100\n",
    "\n",
    "w, b =  (X, y, C)\n",
    "\n",
    "print(\"W is: \", w)\n",
    "print(\"b is: \", b)\n",
    "\n",
    "plot_svm(w, b, X)\n",
    "plot_points(X, y)\n",
    "plt.show()"
   ]
  },
  {
   "cell_type": "markdown",
   "metadata": {},
   "source": [
    "### Answer:\n",
    "\n",
    "The parameter **C** defines the extent of avoiding miss classification for each training example. For the larger values of C, a smaller margin decision boundary is obtained if and only if this decision boundary correctly classifies the training samples. And large value of C, results in large margin decision boundary."
   ]
  },
  {
   "cell_type": "markdown",
   "metadata": {
    "id": "K7crSrYuI9qy"
   },
   "source": [
    "Take the case of C = 100 and remove the support vectors. Does the boundary change after the deletion?\n",
    "Explain why? Show your results by appropriate plots?"
   ]
  },
  {
   "cell_type": "code",
   "execution_count": 19,
   "metadata": {
    "colab": {
     "base_uri": "https://localhost:8080/"
    },
    "id": "tqYQtuTBr5LC",
    "outputId": "706a40c8-4e0c-49e7-f678-86485bc269d8"
   },
   "outputs": [
    {
     "name": "stdout",
     "output_type": "stream",
     "text": [
      "[-1.1] [0.0] \n",
      "\n",
      "[-3.0, 0.0] [1.0, -3.0]\n"
     ]
    }
   ],
   "source": [
    "print(left_support_vector_x, left_support_vector_y, \"\\n\")\n",
    "print(right_support_vector_x, right_support_vector_y)"
   ]
  },
  {
   "cell_type": "code",
   "execution_count": 20,
   "metadata": {
    "colab": {
     "base_uri": "https://localhost:8080/"
    },
    "id": "-qp7D5Kvr5LD",
    "outputId": "8563feb5-7579-4b84-b14f-265d04d1a56f"
   },
   "outputs": [
    {
     "name": "stdout",
     "output_type": "stream",
     "text": [
      "[[ -3.5  -1. ]\n",
      " [ -3.    0. ]\n",
      " [ -3.    1. ]\n",
      " [ -2.7  -1.3]\n",
      " [ -2.   -1. ]\n",
      " [ -2.   -2.7]\n",
      " [ -1.   -2.5]\n",
      " [  0.   -3. ]\n",
      " [ -1.1   0. ]\n",
      " [  0.    2.5]\n",
      " [  1.    2. ]\n",
      " [  0.7   4. ]\n",
      " [  2.1   0.2]\n",
      " [  2.3   1. ]\n",
      " [  2.8   1.8]\n",
      " [  2.2   2.8]\n",
      " [ -4.  -10. ]\n",
      " [  4.    4. ]] [ 1  1  1  1  1  1  1  1 -1 -1 -1 -1 -1 -1 -1 -1  1 -1]\n"
     ]
    }
   ],
   "source": [
    "print(X, y)"
   ]
  },
  {
   "cell_type": "code",
   "execution_count": 21,
   "metadata": {
    "id": "DxC0xdsEI9qz"
   },
   "outputs": [],
   "source": [
    "# Write your Code here\n",
    "\n",
    "new_X = np.array([[-3.5, -1], [-3, 0], [-2.7, -1.3], [-2, -1], [-2, -2.7], \n",
    "              [-1, -2.5],  [0, 2.5], [1, 2], [0.7, 4], \n",
    "              [2.1, 0.2], [2.3, 1], [2.8, 1.8], [2.2, 2.8]])\n",
    "new_y = np.array([1, 1, 1, 1, 1, 1, -1, -1, -1, -1, -1, -1, -1])"
   ]
  },
  {
   "cell_type": "code",
   "execution_count": 22,
   "metadata": {
    "colab": {
     "base_uri": "https://localhost:8080/",
     "height": 317
    },
    "id": "o5DHyQjpr5LD",
    "outputId": "633d591e-c8f7-491d-aabb-c4cd05352a22"
   },
   "outputs": [
    {
     "name": "stdout",
     "output_type": "stream",
     "text": [
      "W is:  [[-0.38493724]\n",
      " [-0.35146444]]\n",
      "b is:  -0.12133891217506956\n"
     ]
    },
    {
     "data": {
      "image/png": "[encoded data removed]",
      "text/plain": [
       "<Figure size 432x288 with 1 Axes>"
      ]
     },
     "metadata": {
      "needs_background": "light"
     },
     "output_type": "display_data"
    }
   ],
   "source": [
    "C = 100\n",
    "\n",
    "w, b = get_opti_svm(new_X, new_y, C)\n",
    "\n",
    "print(\"W is: \", w)\n",
    "print(\"b is: \", b)\n",
    "\n",
    "plot_svm(w, b, X)\n",
    "plot_points(X, y)\n",
    "plt.show()"
   ]
  },
  {
   "cell_type": "markdown",
   "metadata": {
    "id": "T0AikU0jr5LD"
   },
   "source": [
    "### Solution:\n",
    "\n",
    "After removing the support vectors, the decision boundry changes as new set of support vectors are obtained with in increase of distance between the margin."
   ]
  },
  {
   "cell_type": "markdown",
   "metadata": {
    "id": "7goMP4wFI9q0"
   },
   "source": [
    "### Subsection 2"
   ]
  },
  {
   "cell_type": "code",
   "execution_count": 23,
   "metadata": {
    "colab": {
     "base_uri": "https://localhost:8080/"
    },
    "id": "PZdBRpHuI9q0",
    "outputId": "0ff6c5a8-4564-449d-e367-0e905726ce49"
   },
   "outputs": [
    {
     "name": "stdout",
     "output_type": "stream",
     "text": [
      "Collecting python-mnist\n",
      "  Downloading python_mnist-0.7-py2.py3-none-any.whl (9.6 kB)\n",
      "Installing collected packages: python-mnist\n",
      "Successfully installed python-mnist-0.7\n",
      "--2021-12-03 09:46:32--  http://yann.lecun.com/exdb/mnist/train-images-idx3-ubyte.gz\n",
      "Resolving yann.lecun.com (yann.lecun.com)... 104.21.29.36, 172.67.171.76, 2606:4700:3034::6815:1d24, ...\n",
      "Connecting to yann.lecun.com (yann.lecun.com)|104.21.29.36|:80... connected.\n",
      "HTTP request sent, awaiting response... 200 OK\n",
      "Length: 9912422 (9.5M) [application/x-gzip]\n",
      "Saving to: ‘samples/train-images-idx3-ubyte.gz’\n",
      "\n",
      "train-images-idx3-u 100%[===================>]   9.45M  --.-KB/s    in 0.1s    \n",
      "\n",
      "2021-12-03 09:46:32 (89.5 MB/s) - ‘samples/train-images-idx3-ubyte.gz’ saved [9912422/9912422]\n",
      "\n",
      "--2021-12-03 09:46:32--  http://yann.lecun.com/exdb/mnist/train-labels-idx1-ubyte.gz\n",
      "Resolving yann.lecun.com (yann.lecun.com)... 104.21.29.36, 172.67.171.76, 2606:4700:3034::6815:1d24, ...\n",
      "Connecting to yann.lecun.com (yann.lecun.com)|104.21.29.36|:80... connected.\n",
      "HTTP request sent, awaiting response... 200 OK\n",
      "Length: 28881 (28K) [application/x-gzip]\n",
      "Saving to: ‘samples/train-labels-idx1-ubyte.gz’\n",
      "\n",
      "train-labels-idx1-u 100%[===================>]  28.20K  --.-KB/s    in 0s      \n",
      "\n",
      "2021-12-03 09:46:32 (317 MB/s) - ‘samples/train-labels-idx1-ubyte.gz’ saved [28881/28881]\n",
      "\n",
      "--2021-12-03 09:46:33--  http://yann.lecun.com/exdb/mnist/t10k-images-idx3-ubyte.gz\n",
      "Resolving yann.lecun.com (yann.lecun.com)... 104.21.29.36, 172.67.171.76, 2606:4700:3034::6815:1d24, ...\n",
      "Connecting to yann.lecun.com (yann.lecun.com)|104.21.29.36|:80... connected.\n",
      "HTTP request sent, awaiting response... 200 OK\n",
      "Length: 1648877 (1.6M) [application/x-gzip]\n",
      "Saving to: ‘samples/t10k-images-idx3-ubyte.gz’\n",
      "\n",
      "t10k-images-idx3-ub 100%[===================>]   1.57M  --.-KB/s    in 0.07s   \n",
      "\n",
      "2021-12-03 09:46:33 (21.9 MB/s) - ‘samples/t10k-images-idx3-ubyte.gz’ saved [1648877/1648877]\n",
      "\n",
      "--2021-12-03 09:46:33--  http://yann.lecun.com/exdb/mnist/t10k-labels-idx1-ubyte.gz\n",
      "Resolving yann.lecun.com (yann.lecun.com)... 104.21.29.36, 172.67.171.76, 2606:4700:3034::6815:1d24, ...\n",
      "Connecting to yann.lecun.com (yann.lecun.com)|104.21.29.36|:80... connected.\n",
      "HTTP request sent, awaiting response... 200 OK\n",
      "Length: 4542 (4.4K) [application/x-gzip]\n",
      "Saving to: ‘samples/t10k-labels-idx1-ubyte.gz’\n",
      "\n",
      "t10k-labels-idx1-ub 100%[===================>]   4.44K  --.-KB/s    in 0s      \n",
      "\n",
      "2021-12-03 09:46:33 (344 MB/s) - ‘samples/t10k-labels-idx1-ubyte.gz’ saved [4542/4542]\n",
      "\n"
     ]
    }
   ],
   "source": [
    "!pip install python-mnist\n",
    "!rm -rf samples\n",
    "!mkdir samples\n",
    "!wget http://yann.lecun.com/exdb/mnist/train-images-idx3-ubyte.gz -P samples/\n",
    "!gunzip samples/train-images-idx3-ubyte.gz\n",
    "!wget http://yann.lecun.com/exdb/mnist/train-labels-idx1-ubyte.gz -P samples/\n",
    "!gunzip samples/train-labels-idx1-ubyte.gz\n",
    "!wget http://yann.lecun.com/exdb/mnist/t10k-images-idx3-ubyte.gz -P samples/\n",
    "!gunzip samples/t10k-images-idx3-ubyte.gz\n",
    "!wget http://yann.lecun.com/exdb/mnist/t10k-labels-idx1-ubyte.gz -P samples/\n",
    "!gunzip samples/t10k-labels-idx1-ubyte.gz"
   ]
  },
  {
   "cell_type": "code",
   "execution_count": 30,
   "metadata": {
    "id": "0XjsnEzVI9q1"
   },
   "outputs": [],
   "source": [
    "# Import Relevant Packages\n",
    "from sklearn.svm import SVC\n",
    "import numpy as np\n",
    "from mnist.loader import MNIST\n",
    "from sklearn.metrics import accuracy_score, f1_score, confusion_matrix"
   ]
  },
  {
   "cell_type": "code",
   "execution_count": 25,
   "metadata": {
    "colab": {
     "base_uri": "https://localhost:8080/"
    },
    "id": "WvXDgQXsI9q1",
    "outputId": "4efa96e5-6f7a-485a-87f9-fccaf2e472a9"
   },
   "outputs": [
    {
     "name": "stdout",
     "output_type": "stream",
     "text": [
      "(60000, 784)\n",
      "(60000,)\n"
     ]
    }
   ],
   "source": [
    "mndata = MNIST('samples')\n",
    "\n",
    "# Load training dataset\n",
    "images, labels = mndata.load_training()\n",
    "l = len(labels)\n",
    "images_train = np.array(images)\n",
    "labels_train = np.array(labels)\n",
    "\n",
    "print(images_train.shape)\n",
    "print(labels_train.shape)"
   ]
  },
  {
   "cell_type": "code",
   "execution_count": 26,
   "metadata": {
    "colab": {
     "base_uri": "https://localhost:8080/"
    },
    "id": "pqZ5EG36I9q2",
    "outputId": "6d551365-32cd-40a7-9288-ad1f80190db0"
   },
   "outputs": [
    {
     "name": "stdout",
     "output_type": "stream",
     "text": [
      "(10000, 784)\n",
      "(10000,)\n"
     ]
    }
   ],
   "source": [
    "# Load testing dataset\n",
    "images, labels = mndata.load_testing()\n",
    "l = len(labels)\n",
    "images_test = np.array(images)\n",
    "labels_test = np.array(labels)\n",
    "\n",
    "print(images_test.shape)\n",
    "print(labels_test.shape)"
   ]
  },
  {
   "cell_type": "markdown",
   "metadata": {
    "id": "N8F6VkaLI9q3"
   },
   "source": [
    "- Tweak different parameters like the C Parameter and gamma parameter of the Linear SVM and report the results.\n",
    "- Experiment different kernels for classification and report the results.\n",
    "\n",
    "Report accuracy score, F1-score, Confusion matrix and any other metrics you feel useful."
   ]
  },
  {
   "cell_type": "code",
   "execution_count": 28,
   "metadata": {
    "id": "CztJyLokI9q3"
   },
   "outputs": [],
   "source": [
    "clf = SVC()\n",
    "\n",
    "clf.fit(images_train, labels_train)\n",
    "\n",
    "prediction = clf.predict(images_test)"
   ]
  },
  {
   "cell_type": "code",
   "execution_count": 32,
   "metadata": {
    "colab": {
     "base_uri": "https://localhost:8080/"
    },
    "id": "wH5pSHgSunYJ",
    "outputId": "c96f9dcd-d6ca-4f5a-daf5-57a77f0312e0"
   },
   "outputs": [
    {
     "name": "stdout",
     "output_type": "stream",
     "text": [
      "Accuracy:  0.9792\n",
      "confusion matrix:  [[ 973    0    1    0    0    2    1    1    2    0]\n",
      " [   0 1126    3    1    0    1    1    1    2    0]\n",
      " [   6    1 1006    2    1    0    2    7    6    1]\n",
      " [   0    0    2  995    0    2    0    5    5    1]\n",
      " [   0    0    5    0  961    0    3    0    2   11]\n",
      " [   2    0    0    9    0  871    4    1    4    1]\n",
      " [   6    2    0    0    2    3  944    0    1    0]\n",
      " [   0    6   11    1    1    0    0  996    2   11]\n",
      " [   3    0    2    6    3    2    2    3  950    3]\n",
      " [   3    4    1    7   10    2    1    7    4  970]]\n",
      "F1-Score:  0.9791856837674859\n"
     ]
    }
   ],
   "source": [
    "#Accuracy score\n",
    "accuracy = accuracy_score(prediction, labels_test)\n",
    "print('Accuracy: ', accuracy_score(prediction, labels_test))\n",
    "print('confusion matrix: ', confusion_matrix(labels_test, prediction))\n",
    "print('F1-Score: ', f1_score(labels_test, prediction, average='weighted'))"
   ]
  },
  {
   "cell_type": "code",
   "execution_count": 33,
   "metadata": {
    "colab": {
     "base_uri": "https://localhost:8080/"
    },
    "id": "4oFk5lVxsb9Z",
    "outputId": "b63d774d-4de7-4263-c477-cdb03ccde51a"
   },
   "outputs": [
    {
     "name": "stdout",
     "output_type": "stream",
     "text": [
      "Accuracy:  0.1009\n",
      "\n",
      " confusion matrix:  [[   0    0    0    0    0    0    0    0    0  980]\n",
      " [   0    0    0    0    0    0    0    0    0 1135]\n",
      " [   0    0    0    0    0    0    0    0    0 1032]\n",
      " [   0    0    0    0    0    0    0    0    0 1010]\n",
      " [   0    0    0    0    0    0    0    0    0  982]\n",
      " [   0    0    0    0    0    0    0    0    0  892]\n",
      " [   0    0    0    0    0    0    0    0    0  958]\n",
      " [   0    0    0    0    0    0    0    0    0 1028]\n",
      " [   0    0    0    0    0    0    0    0    0  974]\n",
      " [   0    0    0    0    0    0    0    0    0 1009]]\n",
      "\n",
      " F1-Score:  0.01849543101099101\n"
     ]
    }
   ],
   "source": [
    "# Polynomial Kernel\n",
    "\n",
    "clf = SVC(kernel='poly', degree=8, C=0.01, gamma=(10**(-1)))\n",
    "\n",
    "clf.fit(images_train, labels_train)\n",
    "\n",
    "prediction = clf.predict(images_test)\n",
    "\n",
    "print('Accuracy: ', accuracy_score(prediction, labels_test))\n",
    "print('\\n confusion matrix: ', confusion_matrix(labels_test, prediction))\n",
    "print('\\n F1-Score: ', f1_score(labels_test, prediction, average='weighted'))"
   ]
  },
  {
   "cell_type": "code",
   "execution_count": null,
   "metadata": {
    "id": "tl8W_mFbsedB"
   },
   "outputs": [],
   "source": [
    "# Sigmoid Kernel\n",
    "\n",
    "clf = SVC(kernel='sigmoid', C=0.001, gamma=(10**(-2)))\n",
    "\n",
    "clf.fit(images_train, labels_train)\n",
    "\n",
    "prediction = clf.predict(images_test)\n",
    "\n",
    "#Accuracy score\n",
    "\n",
    "print('Accuracy: ', accuracy_score(prediction, labels_test))\n",
    "print('\\n confusion matrix: ', confusion_matrix(labels_test, prediction))\n",
    "print('\\n F1-Score: ', f1_score(labels_test, prediction, average='weighted'))"
   ]
  }
 ],
 "metadata": {
  "colab": {
   "name": "2021701015_SVM.ipynb",
   "provenance": []
  },
  "kernelspec": {
   "display_name": "Python 3",
   "language": "python",
   "name": "python3"
  },
  "language_info": {
   "codemirror_mode": {
    "name": "ipython",
    "version": 3
   },
   "file_extension": ".py",
   "mimetype": "text/x-python",
   "name": "python",
   "nbconvert_exporter": "python",
   "pygments_lexer": "ipython3",
   "version": "3.8.8"
  }
 },
 "nbformat": 4,
 "nbformat_minor": 1
}
